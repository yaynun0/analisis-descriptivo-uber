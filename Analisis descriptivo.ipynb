{
 "cells": [
  {
   "cell_type": "markdown",
   "id": "215ee2ce-dd2e-46b5-b633-8a3e65130267",
   "metadata": {},
   "source": [
    "Analisis descriptivo "
   ]
  },
  {
   "cell_type": "code",
   "execution_count": 2,
   "id": "8a96d795-0afd-4525-a059-71222d010554",
   "metadata": {},
   "outputs": [],
   "source": [
    "import pandas as pd\n",
    "import matplotlib.pyplot as plt\n",
    "import seaborn as sns\n",
    "\n",
    "df=pd.read_csv(\"ncr_ride_bookings.csv\")"
   ]
  },
  {
   "cell_type": "markdown",
   "id": "e6671d74-8f3f-410d-9f19-ff77b8bc068b",
   "metadata": {},
   "source": [
    "Establecer formato de fecha y hora, agregamos una columna con la hora de la reservación como un entero y una columna con el día de la semana"
   ]
  },
  {
   "cell_type": "code",
   "execution_count": 3,
   "id": "31678f31-cba3-40a2-97a4-14f86f7ca006",
   "metadata": {},
   "outputs": [],
   "source": [
    "df[\"Date\"] = pd.to_datetime(df[\"Date\"])\n",
    "df[\"Hour\"] = df[\"Time\"].str[:2].astype(int)\n",
    "df[\"DayOfWeek\"] = df[\"Date\"].dt.day_name()"
   ]
  },
  {
   "cell_type": "markdown",
   "id": "346591ca-bd5b-4fe9-b476-d395052be248",
   "metadata": {},
   "source": [
    "Agrupamos"
   ]
  },
  {
   "cell_type": "code",
   "execution_count": null,
   "id": "4959ad92-84d6-4b07-86c0-90c743d94228",
   "metadata": {},
   "outputs": [],
   "source": [
    "grouped = df.groupby([\"DayOfWeek\", \"Hour\"]).agg(\n",
    "    total_rides=(\"Booking ID\", \"count\"),\n",
    "    driver_cancels=(\"Cancelled Rides by Driver\", \"sum\"),\n",
    "    customer_cancels=(\"Cancelled Rides by Customer\", \"sum\")\n",
    ").reset_index()"
   ]
  }
 ],
 "metadata": {
  "kernelspec": {
   "display_name": "Python [conda env:base] *",
   "language": "python",
   "name": "conda-base-py"
  },
  "language_info": {
   "codemirror_mode": {
    "name": "ipython",
    "version": 3
   },
   "file_extension": ".py",
   "mimetype": "text/x-python",
   "name": "python",
   "nbconvert_exporter": "python",
   "pygments_lexer": "ipython3",
   "version": "3.11.5"
  }
 },
 "nbformat": 4,
 "nbformat_minor": 5
}
